{
 "cells": [
  {
   "cell_type": "markdown",
   "metadata": {},
   "source": [
    "In the cell below, create a Python function that wraps your previous solution for the Bag of Words lab.\n",
    "\n",
    "Requirements:\n",
    "\n",
    "1. Your function should accept the following parameters:\n",
    "    * `docs` [REQUIRED] - array of document paths.\n",
    "    * `stop_words` [OPTIONAL] - array of stop words. The default value is an empty array.\n",
    "\n",
    "1. Your function should return a Python object that contains the following:\n",
    "    * `bag_of_words` - array of strings of normalized unique words in the corpus.\n",
    "    * `term_freq` - array of the term-frequency vectors."
   ]
  },
  {
   "cell_type": "code",
   "execution_count": 215,
   "metadata": {},
   "outputs": [],
   "source": [
    "import pandas as pd\n",
    "import os\n",
    "import re\n",
    "\n",
    "def get_bow_from_docs(docs, stop_words=[]):\n",
    "    \n",
    "    corpus = []\n",
    "    bag_of_words = []\n",
    "    term_freq = []\n",
    "    \n",
    "    for doc in range(len(docs)):\n",
    "        data=open(docs[doc],'r')\n",
    "        corpus.append(data.read())\n",
    "\n",
    "    no_punct = []\n",
    "    for corp in corpus:\n",
    "        no_punct.append((corp.lower().replace('.', '')))\n",
    "    corpus = no_punct\n",
    "   \n",
    "    no_line = []\n",
    "    for i in range(len(corpus)):    \n",
    "        no_line.append(re.sub('\\n', '',corpus[i]))\n",
    "    corpus = no_line\n",
    "    \n",
    "    for corp in corpus:\n",
    "        sep = corp.split()\n",
    "        for word in sep:\n",
    "            if word not in bag_of_words:\n",
    "                bag_of_words.append(word)\n",
    "    \n",
    "    for i in stop_words:\n",
    "        if(i in bag_of_words):\n",
    "            bag_of_words.remove(i)\n",
    "                    \n",
    "    for corp in corpus:\n",
    "        subf = []\n",
    "        sep = corp.split()\n",
    "        for word in bag_of_words:\n",
    "            if word in sep:\n",
    "                subf.append(1)\n",
    "            else:\n",
    "                subf.append(0)\n",
    "        term_freq.append(subf)\n",
    "        \n",
    "    return {\n",
    "        \"bag_of_words\": bag_of_words,\n",
    "        \"term_freq\": term_freq\n",
    "    }"
   ]
  },
  {
   "cell_type": "markdown",
   "metadata": {},
   "source": [
    "Test your function without stop words. You should see the output like below:\n",
    "\n",
    "```{'bag_of_words': ['ironhack', 'is', 'cool', 'i', 'love', 'am', 'a', 'student', 'at'], 'term_freq': [[1, 1, 1, 0, 0, 0, 0, 0, 0], [1, 0, 0, 1, 1, 0, 0, 0, 0], [1, 0, 0, 1, 0, 1, 1, 1, 1]]}```"
   ]
  },
  {
   "cell_type": "code",
   "execution_count": 216,
   "metadata": {},
   "outputs": [
    {
     "name": "stdout",
     "output_type": "stream",
     "text": [
      "{'bag_of_words': ['ironhack', 'is', 'cool', 'i', 'love', 'am', 'a', 'student', 'at'], 'term_freq': [[1, 1, 1, 0, 0, 0, 0, 0, 0], [1, 0, 0, 1, 1, 0, 0, 0, 0], [1, 0, 0, 1, 0, 1, 1, 1, 1]]}\n"
     ]
    }
   ],
   "source": [
    "docs = ['doc1.txt','doc2.txt','doc3.txt']\n",
    "\n",
    "bow = get_bow_from_docs(docs)\n",
    "\n",
    "print(bow)"
   ]
  },
  {
   "cell_type": "markdown",
   "metadata": {},
   "source": [
    "If your attempt above is successful, nice work done!\n",
    "\n",
    "Now test your function again with the stop words. In the previous lab we defined the stop words in a large array. In this lab, we'll import the stop words from Scikit-Learn."
   ]
  },
  {
   "cell_type": "code",
   "execution_count": 217,
   "metadata": {},
   "outputs": [
    {
     "name": "stdout",
     "output_type": "stream",
     "text": [
      "frozenset({'fifty', 'whereby', 'anything', 'only', 'sometime', 'ours', 'yet', 'thence', 'couldnt', 'noone', 'were', 'several', 'yourselves', 'through', 'such', 'there', 'we', 'elsewhere', 'upon', 'whatever', 'alone', 'front', 'seems', 'hereby', 'his', 'hence', 'thru', 'made', 'i', 'well', 'around', 'for', 'becoming', 'why', 'via', 'will', 'being', 'rather', 'of', 'eleven', 'could', 'where', 'he', 'my', 'two', 'eg', 'four', 'if', 'same', 'became', 'from', 're', 'sixty', 'twelve', 'somewhere', 'until', 'bill', 'always', 'six', 'must', 'give', 'latterly', 'formerly', 'con', 'more', 'and', 'can', 'anyhow', 'never', 'toward', 'someone', 'thin', 'thick', 'between', 'nothing', 'hereafter', 'few', 'on', 'five', 'what', 'because', 'co', 'onto', 'hers', 'thereupon', 'both', 'seemed', 'should', 'had', 'nobody', 'itself', 'in', 'all', 'whence', 'per', 'afterwards', 'thus', 'ie', 'moreover', 'every', 'at', 'himself', 'you', 'still', 'own', 'many', 'beforehand', 'among', 'after', 'whom', 'name', 'down', 'go', 'almost', 'amongst', 'would', 'show', 'nine', 'de', 'three', 'is', 'most', 'sometimes', 'us', 'describe', 'off', 'something', 'due', 'whole', 'everyone', 'against', 'anyone', 'ltd', 'seeming', 'nowhere', 'your', 'their', 'first', 'system', 'are', 'former', 'some', 'become', 'ever', 'anyway', 'me', 'fire', 'sincere', 'least', 'etc', 'again', 'move', 'above', 'less', 'she', 'by', 'please', 'since', 'whoever', 'may', 'they', 'also', 'wherever', 'him', 'everywhere', 'call', 'myself', 'was', 'each', 'when', 'during', 'cry', 'mill', 'then', 'put', 'before', 'once', 'them', 'whereas', 'amount', 'wherein', 'a', 'throughout', 'therein', 'except', 'ourselves', 'into', 'over', 'twenty', 'whereafter', 'while', 'found', 'cant', 'thereby', 'top', 'therefore', 'detail', 'one', 'take', 'do', 'anywhere', 'might', 'to', 'very', 'un', 'fill', 'have', 'along', 'it', 'find', 'herself', 'indeed', 'hundred', 'even', 'perhaps', 'up', 'much', 'serious', 'those', 'no', 'her', 'with', 'am', 'eight', 'besides', 'otherwise', 'see', 'within', 'the', 'an', 'has', 'this', 'these', 'another', 'but', 'whither', 'neither', 'across', 'themselves', 'hasnt', 'nevertheless', 'how', 'else', 'somehow', 'next', 'cannot', 'ten', 'its', 'towards', 'part', 'who', 'that', 'hereupon', 'namely', 'other', 'often', 'than', 'whenever', 'forty', 'full', 'nor', 'so', 'empty', 'interest', 'about', 'either', 'back', 'whether', 'as', 'any', 'meanwhile', 'amoungst', 'be', 'third', 'mostly', 'becomes', 'herein', 'here', 'fifteen', 'seem', 'inc', 'been', 'whereupon', 'last', 'too', 'latter', 'none', 'which', 'get', 'yourself', 'whose', 'bottom', 'though', 'however', 'done', 'mine', 'although', 'beside', 'now', 'thereafter', 'side', 'below', 'without', 'keep', 'or', 'yours', 'together', 'beyond', 'under', 'out', 'already', 'not', 'our', 'behind', 'everything', 'enough', 'further', 'others'})\n"
     ]
    }
   ],
   "source": [
    "from sklearn.feature_extraction import stop_words\n",
    "print(stop_words.ENGLISH_STOP_WORDS)"
   ]
  },
  {
   "cell_type": "markdown",
   "metadata": {},
   "source": [
    "You should have seen a large list of words that looks like:\n",
    "\n",
    "```frozenset({'across', 'mine', 'cannot', ...})```\n",
    "\n",
    "`frozenset` is a type of Python object that is immutable. In this lab you can use it just like an array without conversion."
   ]
  },
  {
   "cell_type": "markdown",
   "metadata": {},
   "source": [
    "Next, test your function with supplying `stop_words.ENGLISH_STOP_WORDS` as the second parameter."
   ]
  },
  {
   "cell_type": "code",
   "execution_count": 219,
   "metadata": {},
   "outputs": [
    {
     "name": "stdout",
     "output_type": "stream",
     "text": [
      "{'bag_of_words': ['ironhack', 'cool', 'love', 'student'], 'term_freq': [[1, 1, 0, 0], [1, 0, 1, 0], [1, 0, 0, 1]]}\n"
     ]
    }
   ],
   "source": [
    "bow = get_bow_from_docs(['doc1.txt','doc2.txt','doc3.txt'], stop_words.ENGLISH_STOP_WORDS)\n",
    "\n",
    "print(bow)"
   ]
  },
  {
   "cell_type": "markdown",
   "metadata": {},
   "source": [
    "You should have seen:\n",
    "\n",
    "```{'bag_of_words': ['ironhack', 'cool', 'love', 'student'], 'term_freq': [[1, 1, 0, 0], [1, 0, 1, 0], [1, 0, 0, 1]]}```"
   ]
  }
 ],
 "metadata": {
  "kernelspec": {
   "display_name": "Python 3",
   "language": "python",
   "name": "python3"
  },
  "language_info": {
   "codemirror_mode": {
    "name": "ipython",
    "version": 3
   },
   "file_extension": ".py",
   "mimetype": "text/x-python",
   "name": "python",
   "nbconvert_exporter": "python",
   "pygments_lexer": "ipython3",
   "version": "3.8.3"
  }
 },
 "nbformat": 4,
 "nbformat_minor": 2
}

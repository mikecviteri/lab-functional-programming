{
 "cells": [
  {
   "cell_type": "markdown",
   "metadata": {},
   "source": [
    "**Lambda** is a special Python function type that is **anonymous**. By *anonymous* it means a lambda function does not have name. Lambda functions are embedded inside codes so that you don't call them like calling regular Python functions.\n",
    "\n",
    "**`Map`** applies a function to all the items in an input list. The function that is applied can be a standard or a lambda function.\n",
    "\n",
    "For instance, below is an example of multiplying number tuples in a list:"
   ]
  },
  {
   "cell_type": "code",
   "execution_count": 11,
   "metadata": {},
   "outputs": [
    {
     "data": {
      "text/plain": [
       "[2, 12, 30]"
      ]
     },
     "execution_count": 11,
     "metadata": {},
     "output_type": "execute_result"
    }
   ],
   "source": [
    "items = [(1,2), (3,4), (5,6)]\n",
    "\n",
    "def multiply(num_tuple):\n",
    "    return num_tuple[0]*num_tuple[1]\n",
    "list(map(multiply, items))"
   ]
  },
  {
   "cell_type": "markdown",
   "metadata": {},
   "source": [
    "...is the same as:"
   ]
  },
  {
   "cell_type": "code",
   "execution_count": 10,
   "metadata": {},
   "outputs": [
    {
     "data": {
      "text/plain": [
       "[2, 12, 30]"
      ]
     },
     "execution_count": 10,
     "metadata": {},
     "output_type": "execute_result"
    }
   ],
   "source": [
    "items = [(1,2), (3,4), (5,6)]\n",
    "list(map(lambda item: item[0]*item[1], items))"
   ]
  },
  {
   "cell_type": "markdown",
   "metadata": {},
   "source": [
    "Why do we sometimes use `lambda` and `map`? Because, as you see in the example above, they make your code really concise by combining 3 lines of code to 1 line.\n",
    "\n",
    "Besides `map`, there is also **`filter`** that selectively returns elements in an array according to whether you return `True`. There is also **`reduce`** that performs computation on a list of items then returns result.\n",
    "\n",
    "Here is a [good tutorial](http://book.pythontips.com/en/latest/map_filter.html) about `map`, `filter`, and `reduce`. Read it if you are not familiar with how they are used. Then proceed to the next cell."
   ]
  },
  {
   "cell_type": "markdown",
   "metadata": {},
   "source": [
    "In the next cell, use `filter` and `lambda` to return a list that contains positive numbers only. The output should be:\n",
    "\n",
    "```[1, 4, 5]```"
   ]
  },
  {
   "cell_type": "code",
   "execution_count": 6,
   "metadata": {},
   "outputs": [
    {
     "name": "stdout",
     "output_type": "stream",
     "text": [
      "[1, 4, 5]\n"
     ]
    }
   ],
   "source": [
    "numbers = [1, 4, -1, -100, 0, 5, -99]\n",
    "\n",
    "positive_numbers = list(filter(lambda x: x > 0, numbers))\n",
    "print(positive_numbers)"
   ]
  },
  {
   "cell_type": "markdown",
   "metadata": {},
   "source": [
    "Next, use `reduce` and `lambda` to return a string that only contains English terms. The English terms are separated with a whitespace ` `.\n",
    "\n",
    "Hints: \n",
    "\n",
    "* If your Jupyter Notebook cannot import `langdetect`, you need to install it with `pip install langdetect`. If Jupyter Notebook still cannot find the library, try install with `python3 -m pip install langdetect`. This is because you need to install `langdetect` in the same Python run environment where Jupyter Notebook is running.\n",
    "\n",
    "* If a word is English, `langdetect.detect(word)=='en'` will return `True`.\n",
    "\n",
    "Your output should read:\n",
    "\n",
    "```'good morning everyone'```"
   ]
  },
  {
   "cell_type": "code",
   "execution_count": 112,
   "metadata": {},
   "outputs": [
    {
     "name": "stdout",
     "output_type": "stream",
     "text": [
      "everyone\n"
     ]
    }
   ],
   "source": [
    "import langdetect\n",
    "import functools\n",
    "\n",
    "words = ['good morning', '早上好', 'доброго', 'おはようございます', 'everyone', '大家', 'каждый', 'みんな']\n",
    "\n",
    "check = lambda x,y: x + ' ' + y if (langdetect.detect(x)=='en' and langdetect.detect(y)=='en')else (x if langdetect.detect(x)=='en' else y)\n",
    "\n",
    "print(reduce(check, words))"
   ]
  },
  {
   "cell_type": "markdown",
   "metadata": {},
   "source": [
    "# Bonus Question"
   ]
  },
  {
   "cell_type": "markdown",
   "metadata": {},
   "source": [
    "Finally, if you still have time, convert your response in Q2 by using `lambda`, `map`, `filter`, or `reduce` where applicable. Enter your function in the cell below.\n",
    "\n",
    "As you write Python functions, generally you don't want to make your function too long. Long functions are difficult to read and difficult to debug. If a function is getting too long, consider breaking it into sever shorter functions where the main function calls other functions. If anything goes wrong, you can output debug messages in each of the functions to check where exactly the error is."
   ]
  },
  {
   "cell_type": "code",
   "execution_count": 119,
   "metadata": {},
   "outputs": [
    {
     "name": "stdout",
     "output_type": "stream",
     "text": [
      "{'bag_of_words': ['ironhack', 'cool', 'love', 'student'], 'term_freq': [[1, 1, 0, 0], [1, 0, 1, 0], [1, 0, 0, 1]]}\n"
     ]
    }
   ],
   "source": [
    "from sklearn.feature_extraction import stop_words\n",
    "import pandas as pd\n",
    "import os\n",
    "import re\n",
    "\n",
    "def strip_html_tags(text):\n",
    "       \n",
    "    result = []\n",
    "    sub = []\n",
    "    sub_2 = []\n",
    "    tag = '<.*?>'\n",
    "    s_text = ' '.join(text)\n",
    "    match = re.findall(tag,s_text)\n",
    "                \n",
    "    for i in range(len(text)):\n",
    "        sub.append((text[i].split()))    \n",
    "            \n",
    "    for i in sub:\n",
    "        for x in i:\n",
    "            if x in match:\n",
    "                i.remove(x)\n",
    "                \n",
    "    for i in range(len(sub)):\n",
    "        result.append(' '.join(sub[i]))\n",
    "                \n",
    "    return(result)\n",
    "\n",
    "def remove_punctuation(text):\n",
    "        \n",
    "    punct = []\n",
    "    for i in text:\n",
    "        punct.append((i.replace('.\\n','')))\n",
    "    \n",
    "    return(punct)    \n",
    "\n",
    "def to_lower_case(text):\n",
    "        \n",
    "    low = []\n",
    "    for i in text:\n",
    "        low.append((i.lower()))\n",
    "    \n",
    "    return(low)\n",
    "\n",
    "def remove_unicode(text):\n",
    "\n",
    "    result = []\n",
    "    sub = []\n",
    "    sub_2 = []\n",
    "    tag = '[^\\u0000-\\u007F]+'\n",
    "    s_text = ' '.join(text)\n",
    "    match =''.join(re.findall(tag,s_text))\n",
    "    \n",
    "    for i in range(len(text)):\n",
    "        sub.append((text[i].split())) \n",
    "        \n",
    "    for i in sub:\n",
    "        for x in i:\n",
    "            if x in match:\n",
    "                i.remove(x)\n",
    "                \n",
    "    for i in range(len(sub)):\n",
    "        result.append(' '.join(sub[i]))\n",
    "                \n",
    "    return(result)\n",
    "\n",
    "def get_bow_from_docs(docs, stop_words):\n",
    "    \n",
    "    corpus = []\n",
    "    bag_of_words = []\n",
    "    term_freq = []\n",
    "    \n",
    "    for doc in range(len(docs)):\n",
    "        data=open(docs[doc],'r')\n",
    "        corpus.append(data.read())\n",
    "            \n",
    "    corpus = remove_punctuation(corpus)\n",
    "    corpus = to_lower_case(corpus)   \n",
    "    corpus = strip_html_tags(corpus)\n",
    "    corpus = remove_unicode(corpus)\n",
    "    \n",
    "    for corp in corpus:\n",
    "        sep = corp.split()\n",
    "        for word in sep:\n",
    "            if word not in bag_of_words:\n",
    "                bag_of_words.append(word)\n",
    "    \n",
    "    for i in stop_words:\n",
    "        if(i in bag_of_words):\n",
    "            bag_of_words.remove(i)\n",
    "     \n",
    "    for corp in corpus:\n",
    "        subf = []\n",
    "        sep = corp.split()\n",
    "        for word in bag_of_words:\n",
    "            if word in sep:\n",
    "                subf.append(1)\n",
    "            else:\n",
    "                subf.append(0)\n",
    "        term_freq.append(subf)\n",
    "        \n",
    "    return {\n",
    "        \"bag_of_words\": bag_of_words,\n",
    "        \"term_freq\": term_freq\n",
    "    }\n",
    "\n",
    "docs = ['doc1.txt','doc2.txt','doc3.txt']\n",
    "stop_words = stop_words.ENGLISH_STOP_WORDS\n",
    "\n",
    "bow = get_bow_from_docs(docs, stop_words)\n",
    "\n",
    "print(bow)"
   ]
  },
  {
   "cell_type": "markdown",
   "metadata": {},
   "source": [
    "Test your function below with the Bag of Words lab docs (it's easier for you to debug your code). Your output should be:\n",
    "\n",
    "```{'bag_of_words': ['ironhack', 'cool', 'love', 'student'], 'term_freq': [[1, 1, 0, 0], [1, 0, 1, 0], [1, 0, 0, 1]]}```"
   ]
  },
  {
   "cell_type": "code",
   "execution_count": null,
   "metadata": {},
   "outputs": [],
   "source": [
    "from sklearn.feature_extraction import stop_words\n",
    "bow = get_bow_from_docs([\n",
    "    '../../lab-bag-of-words/your-code/doc1.txt', \n",
    "    '../../lab-bag-of-words/your-code/doc2.txt', \n",
    "    '../../lab-bag-of-words/your-code/doc3.txt'],\n",
    "    stop_words.ENGLISH_STOP_WORDS\n",
    ")\n",
    "\n",
    "print(bow)"
   ]
  }
 ],
 "metadata": {
  "kernelspec": {
   "display_name": "Python 3",
   "language": "python",
   "name": "python3"
  },
  "language_info": {
   "codemirror_mode": {
    "name": "ipython",
    "version": 3
   },
   "file_extension": ".py",
   "mimetype": "text/x-python",
   "name": "python",
   "nbconvert_exporter": "python",
   "pygments_lexer": "ipython3",
   "version": "3.8.3"
  }
 },
 "nbformat": 4,
 "nbformat_minor": 2
}
